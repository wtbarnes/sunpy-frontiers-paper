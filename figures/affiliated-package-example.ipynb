{
 "cells": [
  {
   "cell_type": "code",
   "execution_count": null,
   "id": "d4623869-5494-40dc-9f4e-3adf0e97689d",
   "metadata": {},
   "outputs": [],
   "source": [
    "import os\n",
    "\n",
    "import astropy.units as u\n",
    "import astropy.time\n",
    "import matplotlib.pyplot as plt\n",
    "import numpy as np\n",
    "import sunpy.map\n",
    "import sunpy_soar  # this registers the SOAR client\n",
    "import pfsspy\n",
    "\n",
    "from aiapy.calibrate import correct_degradation, update_pointing\n",
    "from astropy.coordinates import SkyCoord\n",
    "from matplotlib.patches import ConnectionPatch\n",
    "from matplotlib.gridspec import GridSpec\n",
    "from sunpy.coordinates.sun import carrington_rotation_number, carrington_rotation_time\n",
    "from sunpy.net import Fido,attrs"
   ]
  },
  {
   "cell_type": "markdown",
   "id": "d51114cf-3fe3-4205-ba74-b945c9daff9e",
   "metadata": {},
   "source": [
    "# Affiliated Package Example"
   ]
  },
  {
   "cell_type": "markdown",
   "id": "ae6b34e3-fb65-4597-83de-9fbd31ab44e2",
   "metadata": {},
   "source": [
    "This notebook illustrates how to use several of the affiliated packages within the SunPy ecosystem in a typical solar data analysis workflow.\n",
    "It also generates the components of Figure 2 in the paper.\n",
    "\n",
    "The workflow illustrated below is comprised of the following steps:\n",
    "\n",
    "1. Search for and download the HMI synoptic magnetogram for the appropriate Carrington rotation\n",
    "2. Manually select the active region and identify the date at which that AR crossed the meridian\n",
    "3. Query the EUV data for that data (using `sunpy-soar`)\n",
    "4. Apply needed corrections to the EUV data (using `aiapy`)\n",
    "5. Perform a field extrapolation from HMI synoptic data (using `pfsspy`)\n",
    "6. Trace fieldlines and overlay them on the EUV active region observations"
   ]
  },
  {
   "cell_type": "markdown",
   "id": "117ce20a-d8dd-4567-8e6b-8e28fd2a6f31",
   "metadata": {},
   "source": [
    "## Step 0\n",
    "\n",
    "Define a few functions we will use later. These are just for convenience"
   ]
  },
  {
   "cell_type": "code",
   "execution_count": null,
   "id": "198bc64d-ade5-4feb-9f57-d664c011be0d",
   "metadata": {},
   "outputs": [],
   "source": [
    "change_obstime = lambda x,y: SkyCoord(x.replicate(observer=x.observer.replicate(obstime=y), obstime=y))\n",
    "\n",
    "change_obstime_frame = lambda x,y: x.replicate_without_data(observer=x.observer.replicate(obstime=y), obstime=y)"
   ]
  },
  {
   "cell_type": "markdown",
   "id": "9d247dc4-acca-459b-be64-0c490bc4be92",
   "metadata": {
    "tags": []
   },
   "source": [
    "## Step 1"
   ]
  },
  {
   "cell_type": "markdown",
   "id": "441af425-cc57-410d-9c7a-fb48acc5f53a",
   "metadata": {},
   "source": [
    "First, get the HMI synoptic data via the JSOC.\n",
    "We know that our active region occured on the disk in the same Carrington rotation as 2022-04-01 so we will use that date to find the relevant Carrington rotation number."
   ]
  },
  {
   "cell_type": "code",
   "execution_count": null,
   "id": "b817e5ae-5ef0-452c-97e2-cc6d9d106e8e",
   "metadata": {},
   "outputs": [],
   "source": [
    "car_rot_date = astropy.time.Time('2022-04-01T00:00:00')\n",
    "car_rot = carrington_rotation_number(car_rot_date)"
   ]
  },
  {
   "cell_type": "code",
   "execution_count": null,
   "id": "87b70580-8318-4f7e-bdbd-e529eb169ab3",
   "metadata": {},
   "outputs": [],
   "source": [
    "# When running this script, replace this with your email that you registered\n",
    "# with the JSOC\n",
    "jsoc_email = ..."
   ]
  },
  {
   "cell_type": "code",
   "execution_count": null,
   "id": "f222b04a-665c-49a6-a300-b72fc844496c",
   "metadata": {},
   "outputs": [],
   "source": [
    "q = Fido.search(\n",
    "    attrs.Time(car_rot_date, car_rot_date),\n",
    "    attrs.jsoc.Series('hmi.synoptic_mr_polfil_720s'),\n",
    "    attrs.jsoc.PrimeKey('CAR_ROT', int(car_rot)),\n",
    "    attrs.jsoc.Notify(jsoc_email),\n",
    ")"
   ]
  },
  {
   "cell_type": "code",
   "execution_count": null,
   "id": "b8e86fa2-5ea4-4667-88ca-7e2bac7d0d41",
   "metadata": {},
   "outputs": [],
   "source": [
    "q"
   ]
  },
  {
   "cell_type": "code",
   "execution_count": null,
   "id": "741f6772-e297-430f-9e44-c867882be591",
   "metadata": {},
   "outputs": [],
   "source": [
    "f = Fido.fetch(q, path='../data/', overwrite=True)\n",
    "m_hmi = sunpy.map.Map(f)"
   ]
  },
  {
   "cell_type": "code",
   "execution_count": null,
   "id": "56eda9aa-9875-497e-ae85-12d647ca949f",
   "metadata": {},
   "outputs": [],
   "source": [
    "m_hmi.peek()"
   ]
  },
  {
   "cell_type": "markdown",
   "id": "58d0f386-59be-4511-b5fa-d2cabfc7132d",
   "metadata": {},
   "source": [
    "## Step 2"
   ]
  },
  {
   "cell_type": "markdown",
   "id": "d273cd99-0dc8-4b54-95cc-b5ea07e68971",
   "metadata": {},
   "source": [
    "Next, we will identify the center of the AR of interest visually from the synoptic magnetogram."
   ]
  },
  {
   "cell_type": "code",
   "execution_count": null,
   "id": "e024d973-28bf-44a8-945f-3868d49bbe41",
   "metadata": {},
   "outputs": [],
   "source": [
    "ar_center = SkyCoord(lon=65*u.deg, lat=15*u.deg, frame=m_hmi.coordinate_frame)"
   ]
  },
  {
   "cell_type": "markdown",
   "id": "835d4d77-57d9-4644-86dc-7d496170cd3f",
   "metadata": {},
   "source": [
    "We can plot this coordinate on our map to confirm that this corresponds to a magnetically interesting region."
   ]
  },
  {
   "cell_type": "code",
   "execution_count": null,
   "id": "9329e9d0-b8ae-4008-8dd5-c51197279143",
   "metadata": {},
   "outputs": [],
   "source": [
    "fig = plt.figure(figsize=(15,5))\n",
    "ax = fig.add_subplot(111, projection=m_hmi)\n",
    "m_hmi.plot(axes=ax)\n",
    "ax.plot_coord(ar_center, marker='X', ls='', color='k', markersize=10)"
   ]
  },
  {
   "cell_type": "markdown",
   "id": "bfa6ee12-5ee6-4604-aae3-ab01a2724240",
   "metadata": {},
   "source": [
    "We need to correct the obstime of the frame and of the associated observer coordinate.\n",
    "This is because the default obstime of the carrington map is halfway through the carrington rotation.\n",
    "However, because a synoptic map is comprised of observations from many different times, this is not the obstime for any given slice.\n",
    "Thus, we look up the obstime associated with our selected longitude and use this to correct our original AR coordinate"
   ]
  },
  {
   "cell_type": "code",
   "execution_count": null,
   "id": "0435762e-bca2-45da-be48-b8293214bcf7",
   "metadata": {},
   "outputs": [],
   "source": [
    "ar_date = carrington_rotation_time(int(car_rot), ar_center.lon)\n",
    "ar_center_corrected = change_obstime(ar_center, ar_date)"
   ]
  },
  {
   "cell_type": "markdown",
   "id": "e4defe73-cb51-49b9-9a9a-fa742ce151b2",
   "metadata": {},
   "source": [
    "## Step 3"
   ]
  },
  {
   "cell_type": "markdown",
   "id": "dd21656e-a423-441b-ba32-f0c0e6bff120",
   "metadata": {},
   "source": [
    "Now, we will download the corresponding EUV data for this particular active region.\n",
    "\n",
    "First, we will construct a search for data from SDO AIA and EUVI on STEREO-A.\n",
    "This will search the VSO."
   ]
  },
  {
   "cell_type": "code",
   "execution_count": null,
   "id": "ede3d10e-b047-4565-ae94-ac2431d49f4c",
   "metadata": {},
   "outputs": [],
   "source": [
    "aia_or_secchi = ((attrs.Instrument.aia | attrs.Instrument.secchi)\n",
    "                 & attrs.Wavelength(171*u.angstrom)\n",
    "                 & attrs.Sample(5*u.minute))"
   ]
  },
  {
   "cell_type": "markdown",
   "id": "b11e774e-0f0f-47b8-83ec-bfadf2b009de",
   "metadata": {},
   "source": [
    "We will then construct a search query for EUI data from Solar Orbiter.\n",
    "This will search the Solar Oriter Archive (SOAR) using the [`sunpy-soar` package](https://github.com/sunpy/sunpy-soar)."
   ]
  },
  {
   "cell_type": "code",
   "execution_count": null,
   "id": "e1c0dc05-6923-4f45-8109-38e19ea324d6",
   "metadata": {},
   "outputs": [],
   "source": [
    "eui_query = attrs.Level(2) & attrs.soar.Product('EUI-FSI174-IMAGE')"
   ]
  },
  {
   "cell_type": "code",
   "execution_count": null,
   "id": "a5c17a02-0cd1-460d-be8f-51a02b080327",
   "metadata": {},
   "outputs": [],
   "source": [
    "q = Fido.search(attrs.Time(ar_date-2*u.minute, ar_date+2*u.minute),\n",
    "                aia_or_secchi | eui_query)"
   ]
  },
  {
   "cell_type": "markdown",
   "id": "e5b1b853-8a91-494d-9f01-6e7fe027f8b1",
   "metadata": {},
   "source": [
    "Note that `Fido` returns three results (one for each instrument) and that two out of the three of these are from the VSO and one is from the SOAR."
   ]
  },
  {
   "cell_type": "code",
   "execution_count": null,
   "id": "9d592a2e-137b-495e-8aa2-44fc468e6c89",
   "metadata": {},
   "outputs": [],
   "source": [
    "q"
   ]
  },
  {
   "cell_type": "code",
   "execution_count": null,
   "id": "0f283e3e-804b-440f-8c89-6ca90a7af9b0",
   "metadata": {},
   "outputs": [],
   "source": [
    "files = Fido.fetch(q, path='../data/', overwrite=True)"
   ]
  },
  {
   "cell_type": "code",
   "execution_count": null,
   "id": "1fc4f6f1-6585-4f6c-9160-a7e05f390181",
   "metadata": {},
   "outputs": [],
   "source": [
    "m_secchi, m_aia, m_eui = sunpy.map.Map(sorted(files))"
   ]
  },
  {
   "cell_type": "markdown",
   "id": "dbf58305-f8ba-4f63-ada9-d994c76c6daf",
   "metadata": {},
   "source": [
    "Using the metadata provided in each file, we also note the relative locations of the three spacecraft and the unique combination of viewing angles they offer when studying this active region."
   ]
  },
  {
   "cell_type": "code",
   "execution_count": null,
   "id": "fac9c3ff-6bb4-42b6-9a0b-6ce15c3d2194",
   "metadata": {},
   "outputs": [],
   "source": [
    "fig = plt.figure()\n",
    "ax = plt.subplot(projection='polar')\n",
    "# Plot the Sun\n",
    "ax.plot(0, 0, marker='o', markersize=20, label='Sun', color='yellow')\n",
    "# Plot the satellite locations\n",
    "for m in [m_aia, m_eui, m_secchi]:\n",
    "    sat = m.observatory\n",
    "    coord = m.observer_coordinate\n",
    "    ax.plot(coord.lon.to('rad'), coord.radius.to(u.AU), 'o', label=sat)\n",
    "ax.set_theta_zero_location(\"S\")\n",
    "ax.legend(frameon=False)"
   ]
  },
  {
   "cell_type": "markdown",
   "id": "90c2a7e3-d567-4549-baa8-71516d2ac77c",
   "metadata": {},
   "source": [
    "## Step 4"
   ]
  },
  {
   "cell_type": "markdown",
   "id": "cc921b09-df52-44b7-b6f6-b3a419ce4e79",
   "metadata": {},
   "source": [
    "We will now apply the neded corrections to the EUV data which include corrections for exposure time as well as instrument degradation.\n",
    "We will also crop each EUV map around the active region of interest."
   ]
  },
  {
   "cell_type": "markdown",
   "id": "cd6c22a7-b99d-4070-b11f-2495b7e39832",
   "metadata": {},
   "source": [
    "In the case of AIA, we'll correct the pointing keywords and also correct for the instrument degradation.\n",
    "We will do this using the relevant functions from the [`aiapy` package](https://aiapy.readthedocs.io/en/stable/)."
   ]
  },
  {
   "cell_type": "code",
   "execution_count": null,
   "id": "fe56b3ea-14a7-499f-93a9-88039b11b20d",
   "metadata": {},
   "outputs": [],
   "source": [
    "m_aia = correct_degradation(update_pointing(m_aia))"
   ]
  },
  {
   "cell_type": "markdown",
   "id": "867f788f-e903-4aa4-b8bb-815973c4156f",
   "metadata": {},
   "source": [
    "The EUVI and AIA maps have also not yet been normalized for exposure time whereas the level 2 EUIV image data already have been normalized"
   ]
  },
  {
   "cell_type": "code",
   "execution_count": null,
   "id": "7a7659fa-65af-48ad-9469-dd777424d071",
   "metadata": {},
   "outputs": [],
   "source": [
    "m_secchi = m_secchi / m_secchi.exposure_time\n",
    "m_aia = m_aia / m_aia.exposure_time"
   ]
  },
  {
   "cell_type": "markdown",
   "id": "78d09eff-d89d-475f-8a42-39d4d8b9b36b",
   "metadata": {},
   "source": [
    "Before cropping our full-disk maps, we can visually verify that we are cropping to the correct region."
   ]
  },
  {
   "cell_type": "code",
   "execution_count": null,
   "id": "80008aee-7fd3-427e-a0a7-359c7a6a042c",
   "metadata": {},
   "outputs": [],
   "source": [
    "ar_width = 700*u.arcsec\n",
    "ar_height = 700*u.arcsec"
   ]
  },
  {
   "cell_type": "code",
   "execution_count": null,
   "id": "57e0d7b5-c02b-4e5e-8aa8-4f0cdcea9391",
   "metadata": {},
   "outputs": [],
   "source": [
    "fig = plt.figure(figsize=(15,5))\n",
    "m_cutouts = []\n",
    "for i,m in enumerate([m_aia,m_eui,m_secchi]):\n",
    "    ax = fig.add_subplot(1,3,i+1,projection=m)\n",
    "    m.plot(axes=ax,clip_interval=(1,99.99)*u.percent)\n",
    "    #ax.plot_coord(ar_center_corrected, marker='o', ls='', color='C3')\n",
    "    ar_center_corrected_transformed = ar_center_corrected.transform_to(m.coordinate_frame)\n",
    "    blc = SkyCoord(Tx=ar_center_corrected_transformed.Tx-ar_width/2,\n",
    "                   Ty=ar_center_corrected_transformed.Ty-ar_height/2,\n",
    "                   frame=ar_center_corrected_transformed)\n",
    "    m.draw_quadrangle(blc, width=ar_width, height=ar_height, edgecolor='C2', lw=1)"
   ]
  },
  {
   "cell_type": "markdown",
   "id": "230a7f38-8750-491c-a823-0f7b05e39386",
   "metadata": {},
   "source": [
    "We can now crop each full disk image to the appropriate region."
   ]
  },
  {
   "cell_type": "code",
   "execution_count": null,
   "id": "d2acb896-6f7e-470c-91ee-79410e7b5d27",
   "metadata": {},
   "outputs": [],
   "source": [
    "m_cutouts = []\n",
    "for m in [m_aia, m_eui, m_secchi]:\n",
    "    ar_center_corrected_transformed = ar_center_corrected.transform_to(m.coordinate_frame)\n",
    "    blc = SkyCoord(Tx=ar_center_corrected_transformed.Tx-ar_width/2,\n",
    "                   Ty=ar_center_corrected_transformed.Ty-ar_height/2,\n",
    "                   frame=ar_center_corrected_transformed)\n",
    "    # Each map is rotated prior to submapping such that the selection is aligned with the coordinate grid\n",
    "    m_rot = m.rotate(missing=0.0)\n",
    "    m_cutout = m_rot.submap(blc, width=ar_width, height=ar_height)\n",
    "    m_cutouts.append(m_cutout)"
   ]
  },
  {
   "cell_type": "code",
   "execution_count": null,
   "id": "7300d6bd-d0a1-4b13-8313-71267ec59457",
   "metadata": {},
   "outputs": [],
   "source": [
    "fig = plt.figure(figsize=(15,5))\n",
    "for i,m in enumerate(m_cutouts):\n",
    "    ax = fig.add_subplot(1,3,i+1,projection=m)\n",
    "    m.plot(axes=ax,clip_interval=(1,99.99)*u.percent)"
   ]
  },
  {
   "cell_type": "markdown",
   "id": "8712adc5-e08f-47d7-960d-8476b0a3cc53",
   "metadata": {},
   "source": [
    "## Step 5"
   ]
  },
  {
   "cell_type": "markdown",
   "id": "6fc5e61b-30b3-4194-9271-c331e1c3bce2",
   "metadata": {},
   "source": [
    "We will now use the [`pfsspy` package](https://pfsspy.readthedocs.io/en/stable/) to compute a potential field extrapolation solution from the HMI magnetogram we downloaded in Step 1."
   ]
  },
  {
   "cell_type": "markdown",
   "id": "44a71166-1878-418d-87cc-39d6afbc1397",
   "metadata": {},
   "source": [
    "We first resample the HMI synoptic map to speed up the calculation of our field extrapolation."
   ]
  },
  {
   "cell_type": "code",
   "execution_count": null,
   "id": "cd4245c9-1a35-4431-abc3-8c6cb84f44b7",
   "metadata": {},
   "outputs": [],
   "source": [
    "m_hmi_resample = m_hmi.resample((1080, 540)*u.pix)"
   ]
  },
  {
   "cell_type": "code",
   "execution_count": null,
   "id": "90caa800-5071-420f-b27f-bda3818d96ac",
   "metadata": {},
   "outputs": [],
   "source": [
    "nrho = 70\n",
    "rss = 2.5\n",
    "pfss_input = pfsspy.Input(m_hmi_resample, nrho, rss)"
   ]
  },
  {
   "cell_type": "code",
   "execution_count": null,
   "id": "65c94350-c1a7-4946-9086-65e25f57ad0e",
   "metadata": {},
   "outputs": [],
   "source": [
    "pfss_output = pfsspy.pfss(pfss_input)"
   ]
  },
  {
   "cell_type": "markdown",
   "id": "6297a6ce-08b9-49d9-a01b-677a04f83104",
   "metadata": {},
   "source": [
    "Let's plot the radial component of the field at the source surface, including the polarity inversion lines, as a check on our solution."
   ]
  },
  {
   "cell_type": "code",
   "execution_count": null,
   "id": "d0b09f66-d7a9-4713-8b5c-795729d01247",
   "metadata": {},
   "outputs": [],
   "source": [
    "fig = plt.figure()\n",
    "ax = fig.add_subplot(projection=pfss_output.source_surface_br)\n",
    "im = pfss_output.source_surface_br.plot(axes=ax)\n",
    "for pil in pfss_output.source_surface_pils:\n",
    "    ax.plot_coord(pil)\n",
    "fig.colorbar(im, ax=ax)"
   ]
  },
  {
   "cell_type": "markdown",
   "id": "accdc066-2240-4716-a799-119199fd1ffc",
   "metadata": {},
   "source": [
    "## Step 6"
   ]
  },
  {
   "cell_type": "markdown",
   "id": "86b7802a-d766-4f94-bcc1-114354f11d38",
   "metadata": {},
   "source": [
    "Finally, let's trace some fieldlines through the extrapolated field."
   ]
  },
  {
   "cell_type": "markdown",
   "id": "0ae5612f-4d97-43d1-8688-6d1e4b2cfccb",
   "metadata": {},
   "source": [
    "To begin with, we need to choose a set of seedpoints from which to trace our fieldlines.\n",
    "We want to select only the seedpoints that are within a certain area around the active region.\n",
    "We need to make the following transformations because we want to expressed our boundaries in terms of the active region boundary as identified by our AIA cutout."
   ]
  },
  {
   "cell_type": "code",
   "execution_count": null,
   "id": "bd29d24d-338a-4061-a399-e3f4234dced0",
   "metadata": {},
   "outputs": [],
   "source": [
    "new_frame = change_obstime_frame(m_hmi.coordinate_frame, m_cutouts[0].date)\n",
    "blc_ar_synop = change_obstime(m_cutouts[0].bottom_left_coord.transform_to(new_frame),\n",
    "                              m_hmi.date)\n",
    "trc_ar_synop = change_obstime(m_cutouts[0].top_right_coord.transform_to(new_frame),\n",
    "                              m_hmi.date)"
   ]
  },
  {
   "cell_type": "markdown",
   "id": "cca25224-731c-46bf-a8fc-b399e4fb0b18",
   "metadata": {},
   "source": [
    "Now, mask all those points that are above -10 G and fall outside of the bounding box defined above."
   ]
  },
  {
   "cell_type": "code",
   "execution_count": null,
   "id": "38ecb61b-1a4f-491e-9014-02e49cbef1b4",
   "metadata": {},
   "outputs": [],
   "source": [
    "masked_pix_y, masked_pix_x = np.where(m_hmi_resample.data < -1e1)\n",
    "seeds = m_hmi_resample.pixel_to_world(masked_pix_x*u.pix, masked_pix_y*u.pix,).make_3d()\n",
    "in_lon = np.logical_and(seeds.lon > blc_ar_synop.lon, seeds.lon < trc_ar_synop.lon)\n",
    "in_lat = np.logical_and(seeds.lat > blc_ar_synop.lat, seeds.lat < trc_ar_synop.lat)\n",
    "seeds = seeds[np.where(np.logical_and(in_lon, in_lat))]"
   ]
  },
  {
   "cell_type": "markdown",
   "id": "70f64b8e-7c0d-41d8-a01e-5578bc33161f",
   "metadata": {},
   "source": [
    "Now, trace fieldlines from seeds specified above"
   ]
  },
  {
   "cell_type": "code",
   "execution_count": null,
   "id": "80b7308f-47d2-4c2a-abca-f9aa8d33d20e",
   "metadata": {},
   "outputs": [],
   "source": [
    "ds = 0.01\n",
    "max_steps = int(np.ceil(10 * nrho / ds))\n",
    "tracer = pfsspy.tracing.FortranTracer(step_size=ds, max_steps=max_steps)\n",
    "fieldlines = tracer.trace(SkyCoord(seeds), pfss_output,)"
   ]
  },
  {
   "cell_type": "markdown",
   "id": "10ad6a4b-29bf-4c68-b480-c1328678ad10",
   "metadata": {},
   "source": [
    "We also want to adjust obstime of all coordinates to coincide with AR at disk center.\n",
    "By default, each field line will have the obstime of the map that the field extrapolation was computed from.\n",
    "Additionally, we will choose only the close field lines."
   ]
  },
  {
   "cell_type": "code",
   "execution_count": null,
   "id": "8f2f640d-f981-4b53-be98-dbd616b33acd",
   "metadata": {},
   "outputs": [],
   "source": [
    "fline_coords = [change_obstime(f.coords, m_aia.date) for f in fieldlines.closed_field_lines if f.coords.shape[0]>500]"
   ]
  },
  {
   "cell_type": "markdown",
   "id": "f6b37e87-ea34-4c0b-b404-78643565f5ab",
   "metadata": {},
   "source": [
    "Finally, let's plot these fieldlines on top of our EUV images."
   ]
  },
  {
   "cell_type": "code",
   "execution_count": null,
   "id": "4bd50757-fb2c-4035-b166-900c02a70220",
   "metadata": {},
   "outputs": [],
   "source": [
    "fig = plt.figure(figsize=(18,5))\n",
    "for i,m in enumerate(m_cutouts):\n",
    "    ax = fig.add_subplot(1,3,i+1,projection=m)\n",
    "    m.plot(axes=ax,title=f'{m.observatory} {m.detector} {m.wavelength.to_string(format=\"latex\")}')\n",
    "    bounds = ax.axis()\n",
    "    for c in fline_coords[::5]:\n",
    "        ax.plot_coord(c, lw=1, color='C2',alpha=.75)\n",
    "    ax.axis(bounds)"
   ]
  },
  {
   "cell_type": "markdown",
   "id": "e4e424c8-3181-40be-9ae9-64798860cd11",
   "metadata": {},
   "source": [
    "The following code snippet builds the final version of Figure 2, but is less illustrative."
   ]
  },
  {
   "cell_type": "code",
   "execution_count": null,
   "id": "e2382e5d-3ed6-4609-ad5a-128952b87d9a",
   "metadata": {},
   "outputs": [],
   "source": [
    "# Build final figure\n",
    "def add_connectors(ax1, ax2, p1, p2, color='k', lw=1):\n",
    "    con1 = ConnectionPatch(\n",
    "        (0, 1), ax1.wcs.world_to_pixel(p1), 'axes fraction', 'data', axesA=ax2, axesB=ax1,\n",
    "        arrowstyle='-', color=color, lw=lw\n",
    "    )\n",
    "    con2 = ConnectionPatch(\n",
    "        (1, 1), ax1.wcs.world_to_pixel(p2), 'axes fraction', 'data', axesA=ax2, axesB=ax1,\n",
    "        arrowstyle='-', color=color, lw=lw\n",
    "    )\n",
    "    ax2.add_artist(con1)\n",
    "    ax2.add_artist(con2)\n",
    "\n",
    "h_w_ratio = 21 / 18\n",
    "width = 12\n",
    "frame_color = 'C3'\n",
    "fig = plt.figure(figsize=(width, width*h_w_ratio))\n",
    "gs = GridSpec(3, 3, figure=fig)\n",
    "#Plot HMI synoptic map\n",
    "ax = fig.add_subplot(gs[0,:2], projection=m_hmi)\n",
    "m_hmi.plot(axes=ax, title='HMI Synoptic Magnetogram')\n",
    "m_hmi.draw_quadrangle(blc_ar_synop, top_right=trc_ar_synop, color=frame_color)\n",
    "ax.coords[0].grid(color='k')\n",
    "ax.coords[1].grid(color='k')\n",
    "# Plot spacecraft locations\n",
    "ax = fig.add_subplot(gs[0,2],projection='polar')\n",
    "ax.plot(0, 0, marker='o', markersize=15, label='Sun', color='yellow')\n",
    "for m in m_cutouts:\n",
    "    sat = m.observatory\n",
    "    coord = m.observer_coordinate\n",
    "    ax.plot(coord.lon.to('rad'), coord.radius.to(u.AU), 'o', label=sat)\n",
    "    ax.text(coord.lon.to_value('rad')*1.15, coord.radius.to_value(u.AU)*0.95, sat)\n",
    "ax.set_theta_zero_location(\"S\")\n",
    "ax.set_rlabel_position(225)\n",
    "ax.set_rlim(0, 1.1)\n",
    "# Plot full-disk EUV images\n",
    "full_disk_axes = []\n",
    "for i,m in enumerate([m_aia,m_eui,m_secchi]):\n",
    "    ax = fig.add_subplot(gs[1,i],projection=m)\n",
    "    m.plot(axes=ax,clip_interval=(1,99.99)*u.percent,\n",
    "        title=f'{m.observatory} {m.detector} {m.wavelength.to_string(format=\"latex\")}')\n",
    "    m.draw_quadrangle(m_cutouts[i].bottom_left_coord, top_right=m_cutouts[i].top_right_coord, color=frame_color, lw=1)\n",
    "    if i:\n",
    "        ax.coords[1].set_axislabel(' ')\n",
    "    ax.coords[0].set_axislabel(' ')\n",
    "    full_disk_axes.append(ax)\n",
    "    ax.coords[1].set_ticklabel(rotation=90)\n",
    "# Plot EUV cutouts with fieldines\n",
    "for i, m in enumerate(m_cutouts):\n",
    "    ax = fig.add_subplot(gs[2,i],projection=m)\n",
    "    m.plot(\n",
    "        axes=ax,\n",
    "        title=False,\n",
    "        clip_interval=(1,99.99)*u.percent,\n",
    "    )\n",
    "    bounds = ax.axis()\n",
    "    for c in fline_coords[::8]:\n",
    "        ax.plot_coord(c, lw=1, color='C2',alpha=.75)\n",
    "    ax.axis(bounds)\n",
    "    if i:\n",
    "        ax.coords[1].set_axislabel(' ')\n",
    "    bottom_right = SkyCoord(Tx=m_cutouts[i].top_right_coord.Tx, Ty=m_cutouts[i].bottom_left_coord.Ty, frame=m_cutouts[i].coordinate_frame)\n",
    "    add_connectors(full_disk_axes[i], ax, m_cutouts[i].bottom_left_coord, bottom_right, color=frame_color, lw=1)\n",
    "    ax.grid(alpha=0)\n",
    "    ax.coords[0].set_ticks(direction='in', color=frame_color,)\n",
    "    ax.coords[1].set_ticks(direction='in', color=frame_color,)\n",
    "    ax.coords[0].frame.set_color(frame_color)\n",
    "    ax.coords[0].frame.set_linewidth(1)\n",
    "    ax.coords[1].frame.set_color(frame_color)\n",
    "    ax.coords[1].frame.set_linewidth(1)\n",
    "    ax.coords[1].set_ticklabel(rotation=90)\n",
    "\n",
    "plt.subplots_adjust(hspace=0.0)"
   ]
  },
  {
   "cell_type": "code",
   "execution_count": null,
   "id": "2a7a5c65-4273-4351-83c2-3333a7cdcda9",
   "metadata": {},
   "outputs": [],
   "source": []
  }
 ],
 "metadata": {
  "kernelspec": {
   "display_name": "Python [conda env:sunpy-frontiers-paper]",
   "language": "python",
   "name": "conda-env-sunpy-frontiers-paper-py"
  },
  "language_info": {
   "codemirror_mode": {
    "name": "ipython",
    "version": 3
   },
   "file_extension": ".py",
   "mimetype": "text/x-python",
   "name": "python",
   "nbconvert_exporter": "python",
   "pygments_lexer": "ipython3",
   "version": "3.10.6"
  }
 },
 "nbformat": 4,
 "nbformat_minor": 5
}
